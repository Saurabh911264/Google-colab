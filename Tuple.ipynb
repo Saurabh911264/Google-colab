{
  "nbformat": 4,
  "nbformat_minor": 0,
  "metadata": {
    "colab": {
      "provenance": []
    },
    "kernelspec": {
      "name": "python3",
      "display_name": "Python 3"
    },
    "language_info": {
      "name": "python"
    }
  },
  "cells": [
    {
      "cell_type": "code",
      "execution_count": 2,
      "metadata": {
        "colab": {
          "base_uri": "https://localhost:8080/"
        },
        "id": "QtuEZjM89H1x",
        "outputId": "e95a6d58-073a-48d4-817d-8cc7da915459"
      },
      "outputs": [
        {
          "output_type": "execute_result",
          "data": {
            "text/plain": [
              "(12, 1, 4, 'Saurabh', 'hi', [12, 43])"
            ]
          },
          "metadata": {},
          "execution_count": 2
        }
      ],
      "source": [
        "sample_tuple=(12,1,4,\"Saurabh\",'hi',[12,43])\n",
        "sample_tuple\n"
      ]
    },
    {
      "cell_type": "code",
      "source": [
        "sample_tuple[1]"
      ],
      "metadata": {
        "colab": {
          "base_uri": "https://localhost:8080/"
        },
        "id": "WCof12C29j9o",
        "outputId": "3d1d6140-f2f6-4de9-82cb-ab624f3ad9eb"
      },
      "execution_count": 4,
      "outputs": [
        {
          "output_type": "execute_result",
          "data": {
            "text/plain": [
              "1"
            ]
          },
          "metadata": {},
          "execution_count": 4
        }
      ]
    },
    {
      "cell_type": "code",
      "source": [
        "sample_tuple[5]"
      ],
      "metadata": {
        "colab": {
          "base_uri": "https://localhost:8080/"
        },
        "id": "rLQ_uAVN9ueX",
        "outputId": "572eedf0-69bc-481e-c968-1e7c30ea8504"
      },
      "execution_count": 5,
      "outputs": [
        {
          "output_type": "execute_result",
          "data": {
            "text/plain": [
              "[12, 43]"
            ]
          },
          "metadata": {},
          "execution_count": 5
        }
      ]
    }
  ]
}