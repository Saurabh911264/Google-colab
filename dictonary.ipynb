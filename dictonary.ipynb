{
  "nbformat": 4,
  "nbformat_minor": 0,
  "metadata": {
    "colab": {
      "provenance": []
    },
    "kernelspec": {
      "name": "python3",
      "display_name": "Python 3"
    },
    "language_info": {
      "name": "python"
    }
  },
  "cells": [
    {
      "cell_type": "code",
      "execution_count": 2,
      "metadata": {
        "colab": {
          "base_uri": "https://localhost:8080/"
        },
        "id": "0VG0E9_Y_Yg9",
        "outputId": "a344f056-c77e-4ba5-8729-14bdf4f7e464"
      },
      "outputs": [
        {
          "output_type": "execute_result",
          "data": {
            "text/plain": [
              "{1: 'hi', 2: 'saurabh', 3: 12, 4: 12.5}"
            ]
          },
          "metadata": {},
          "execution_count": 2
        }
      ],
      "source": [
        "sample_dict={1:\"hi\",2:\"saurabh\",3:12,4:12.5}\n",
        "sample_dict\n"
      ]
    },
    {
      "cell_type": "code",
      "source": [
        "sample_dict[5]=\"shubham\""
      ],
      "metadata": {
        "id": "01UqL1GKCmOn"
      },
      "execution_count": 3,
      "outputs": []
    },
    {
      "cell_type": "code",
      "source": [
        "sample_dict"
      ],
      "metadata": {
        "colab": {
          "base_uri": "https://localhost:8080/"
        },
        "id": "h1lbkd5hCv1J",
        "outputId": "53469f24-e586-4495-9bfc-dee1fb5ecb02"
      },
      "execution_count": 4,
      "outputs": [
        {
          "output_type": "execute_result",
          "data": {
            "text/plain": [
              "{1: 'hi', 2: 'saurabh', 3: 12, 4: 12.5, 5: 'shubham'}"
            ]
          },
          "metadata": {},
          "execution_count": 4
        }
      ]
    },
    {
      "cell_type": "code",
      "source": [
        "sample_dict[2.3]='alsdj'"
      ],
      "metadata": {
        "id": "KkZxgjmVCxw8"
      },
      "execution_count": 5,
      "outputs": []
    },
    {
      "cell_type": "code",
      "source": [],
      "metadata": {
        "id": "ILSybKXaHWRH"
      },
      "execution_count": null,
      "outputs": []
    }
  ]
}